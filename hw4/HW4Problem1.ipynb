{
 "cells": [
  {
   "cell_type": "code",
   "execution_count": 6,
   "metadata": {
    "collapsed": false
   },
   "outputs": [
    {
     "name": "stdout",
     "output_type": "stream",
     "text": [
      "x=0.36787944117144233\n"
     ]
    }
   ],
   "source": [
    "# HW4 problem 1 newton iterative method for finding roots.\n",
    "function F(x)\n",
    "    z=1/x -exp(1);\n",
    "    return z\n",
    "end\n",
    "\n",
    "function dF(x)\n",
    "    z=-1/(x^2) ; \n",
    "    return z\n",
    "end\n",
    "\n",
    "\n",
    "# set start pt as 0.3\n",
    "x0=0.3;\n",
    "x=x0;\n",
    "for i = 1: 1000\n",
    "    x=x- F(x)/dF(x);\n",
    "end\n",
    "\n",
    "println(\"x=\",x)\n",
    "    \n"
   ]
  },
  {
   "cell_type": "code",
   "execution_count": 8,
   "metadata": {
    "collapsed": false
   },
   "outputs": [
    {
     "name": "stdout",
     "output_type": "stream",
     "text": [
      "x=-Inf\n"
     ]
    }
   ],
   "source": [
    "# HW4 problem 1 newton iterative method for finding roots.\n",
    "function F(x)\n",
    "    z=1/x -exp(1);\n",
    "    return z\n",
    "end\n",
    "\n",
    "function dF(x)\n",
    "    z=-1/(x^2) ; \n",
    "    return z\n",
    "end\n",
    "\n",
    "\n",
    "# set start pt as 1\n",
    "x0=1;\n",
    "x=x0;\n",
    "for i = 1: 1000\n",
    "    x=x- F(x)/dF(x);\n",
    "end\n",
    "\n",
    "println(\"x=\",x)\n",
    "    \n"
   ]
  },
  {
   "cell_type": "code",
   "execution_count": null,
   "metadata": {
    "collapsed": true
   },
   "outputs": [],
   "source": []
  }
 ],
 "metadata": {
  "kernelspec": {
   "display_name": "Julia 0.5.0-dev",
   "language": "julia",
   "name": "julia-0.5"
  },
  "language_info": {
   "file_extension": ".jl",
   "mimetype": "application/julia",
   "name": "julia",
   "version": "0.5.0"
  }
 },
 "nbformat": 4,
 "nbformat_minor": 0
}
