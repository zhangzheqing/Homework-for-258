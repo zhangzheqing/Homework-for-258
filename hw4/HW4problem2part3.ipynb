{
 "cells": [
  {
   "cell_type": "code",
   "execution_count": 2,
   "metadata": {
    "collapsed": false
   },
   "outputs": [
    {
     "ename": "LoadError",
     "evalue": "LoadError: UndefVarError: @x_str not defined\nwhile loading In[2], in expression starting on line 38",
     "output_type": "error",
     "traceback": [
      "LoadError: UndefVarError: @x_str not defined\nwhile loading In[2], in expression starting on line 38",
      "",
      " [inlined code] from essentials.jl:116"
     ]
    }
   ],
   "source": [
    "# HW4 problem 2 finding the minimum of ||x||^beta \n",
    "# with newton method combining armijo linesearch \n",
    "\n",
    "beta= 3;\n",
    "c1 = 10.0^(-2);\n",
    "\n",
    "\n",
    "#n=10; # dimension of the problem.\n",
    "\n",
    "#x0=rand(n); # intial condtion \n",
    "x0=rand(10);\n",
    "x=x0;\n",
    "steps=0;\n",
    "while norm(x)>10.0^(-6)\n",
    " \n",
    "    steps=steps+1;   \n",
    "alpha=1; # intial line search \n",
    "left=norm(x+alpha*(-1/(beta-1))*x)^beta;\n",
    "right= norm(x)^beta+beta* c1*alpha*(norm(x)^beta)*(-1/(beta-1));\n",
    "\n",
    "\n",
    "\n",
    "\n",
    "while left >= right\n",
    "    alpha=0.5 * alpha;\n",
    "    left=norm(x+alpha*(-1/(beta-1))*x)^beta;\n",
    "    right= norm(x)^beta+beta* c1*alpha*(norm(x)^beta)*(-1/(beta-1));\n",
    "end\n",
    "    \n",
    "    x=x-x*alpha/(beta-1);\n",
    "    \n",
    "    \n",
    "    \n",
    "    \n",
    "end\n",
    "\n",
    "println(\"the minimizer =\", x\"\\n\",\"the iterative step = \", step )\n"
   ]
  },
  {
   "cell_type": "code",
   "execution_count": 17,
   "metadata": {
    "collapsed": false
   },
   "outputs": [
    {
     "ename": "LoadError",
     "evalue": "LoadError: UndefVarError: c1 not defined\nwhile loading In[17], in expression starting on line 1",
     "output_type": "error",
     "traceback": [
      "LoadError: UndefVarError: c1 not defined\nwhile loading In[17], in expression starting on line 1",
      "",
      " [inlined code] from essentials.jl:116"
     ]
    }
   ],
   "source": [
    "c1"
   ]
  },
  {
   "cell_type": "code",
   "execution_count": 3,
   "metadata": {
    "collapsed": false
   },
   "outputs": [
    {
     "data": {
      "text/plain": [
       "3-element Array{Float64,1}:\n",
       " 0.744491\n",
       " 0.393576\n",
       " 0.496764"
      ]
     },
     "execution_count": 3,
     "metadata": {},
     "output_type": "execute_result"
    }
   ],
   "source": [
    "rand(3)"
   ]
  },
  {
   "cell_type": "code",
   "execution_count": null,
   "metadata": {
    "collapsed": true
   },
   "outputs": [],
   "source": []
  }
 ],
 "metadata": {
  "kernelspec": {
   "display_name": "Julia 0.5.0-dev",
   "language": "julia",
   "name": "julia-0.5"
  },
  "language_info": {
   "file_extension": ".jl",
   "mimetype": "application/julia",
   "name": "julia",
   "version": "0.5.0"
  }
 },
 "nbformat": 4,
 "nbformat_minor": 0
}
