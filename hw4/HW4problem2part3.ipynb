{
 "cells": [
  {
   "cell_type": "code",
   "execution_count": 4,
   "metadata": {
    "collapsed": false
   },
   "outputs": [
    {
     "name": "stdout",
     "output_type": "stream",
     "text": [
      "the minimizer =[2.155139604142744e-7,2.2117533531180552e-7,2.952051365623486e-7,1.1796439153266342e-7,2.8036261520698596e-8,4.064940060804909e-8,1.836298755814577e-7,1.0022986250918191e-7,1.4949844631206132e-7,4.0725202362048597e-7]\n",
      "the iterative step = 21\n"
     ]
    }
   ],
   "source": [
    "# HW4 problem 2 finding the minimum of ||x||^beta \n",
    "# with newton method combining armijo linesearch \n",
    "\n",
    "beta= 3;\n",
    "c1 = 10.0^(-2);\n",
    "\n",
    "\n",
    "#n=10; # dimension of the problem.\n",
    "\n",
    "#x0=rand(n); # intial condtion \n",
    "x0=rand(10);\n",
    "x=x0;\n",
    "steps=0;\n",
    "while norm(x)>10.0^(-6)\n",
    " \n",
    "    steps=steps+1;   \n",
    "alpha=1; # intial line search \n",
    "left=norm(x+alpha*(-1/(beta-1))*x)^beta;\n",
    "right= norm(x)^beta+beta* c1*alpha*(norm(x)^beta)*(-1/(beta-1));\n",
    "\n",
    "\n",
    "\n",
    "\n",
    "while left >= right\n",
    "    alpha=0.5 * alpha;\n",
    "    left=norm(x+alpha*(-1/(beta-1))*x)^beta;\n",
    "    right= norm(x)^beta+beta* c1*alpha*(norm(x)^beta)*(-1/(beta-1));\n",
    "end\n",
    "    \n",
    "    x=x-x*alpha/(beta-1);\n",
    "    \n",
    "    \n",
    "    \n",
    "    \n",
    "end\n",
    "\n",
    "println(\"the minimizer =\", x,\"\\n\",\"the iterative step = \", steps )\n"
   ]
  }
 ],
 "metadata": {
  "kernelspec": {
   "display_name": "Julia 0.5.0-dev",
   "language": "julia",
   "name": "julia-0.5"
  },
  "language_info": {
   "file_extension": ".jl",
   "mimetype": "application/julia",
   "name": "julia",
   "version": "0.5.0"
  }
 },
 "nbformat": 4,
 "nbformat_minor": 0
}
