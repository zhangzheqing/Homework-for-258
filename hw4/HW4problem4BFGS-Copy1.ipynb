{
 "cells": [
  {
   "cell_type": "code",
   "execution_count": 1,
   "metadata": {
    "collapsed": false
   },
   "outputs": [
    {
     "ename": "LoadError",
     "evalue": "LoadError: error compiling anonymous: error compiling call: could not load library \"/Users/Beaux/.julia/v0.4/Toms566/src/lib566\"\ndlopen(/Users/Beaux/.julia/v0.4/Toms566/src/lib566.dylib, 1): Library not loaded: /usr/local/lib/gcc/5/libgfortran.3.dylib\n  Referenced from: /Users/Beaux/.julia/v0.4/Toms566/src/lib566.dylib\n  Reason: image not found\nwhile loading In[1], in expression starting on line 81",
     "output_type": "error",
     "traceback": [
      "LoadError: error compiling anonymous: error compiling call: could not load library \"/Users/Beaux/.julia/v0.4/Toms566/src/lib566\"\ndlopen(/Users/Beaux/.julia/v0.4/Toms566/src/lib566.dylib, 1): Library not loaded: /usr/local/lib/gcc/5/libgfortran.3.dylib\n  Referenced from: /Users/Beaux/.julia/v0.4/Toms566/src/lib566.dylib\n  Reason: image not found\nwhile loading In[1], in expression starting on line 81",
      ""
     ]
    }
   ],
   "source": [
    "\n",
    "using Toms566\n",
    "\n",
    "\n",
    "\n",
    "\n",
    "\n",
    "function newtmin( obj, x0,c1,c2; maxit=200, optTol=1e-9)\n",
    "# Minimize a function f using Newton’s method.\n",
    "# obj: a function that evaluates the objective value,\n",
    "# gradient, and Hessian at a point x, i.e.,\n",
    "# (f, g, H) = obj(x)\n",
    "# x0: starting point.\n",
    "    # c1,c2 are the parameters from wolfe condtion used in the linesearch\n",
    "# maxIts (optional): maximum number of iterations.\n",
    "# optTol (optional): optimality tolerance based on\n",
    "# ||grad(x)|| <= optTol*||grad(x0)||\n",
    "    f_0 = obj.obj(x0);\n",
    "    grad_0 = obj.grd(x0);\n",
    "    Hes_0 = obj.hes(x0);\n",
    "    Hes_0 = Hes_0-min(eigmin(Hes_0)-1e-3,0)*eye(length(x0));\n",
    "           \n",
    "    #Counts the iteratives.\n",
    "    int = 0;\n",
    "    \n",
    "    #initialize the problem.\n",
    "    x = x0;\n",
    "    f_x = f_0;\n",
    "    grad_x = grad_0;   \n",
    "    Hes_x = Hes_0;\n",
    "    H = inv(Hes_x);\n",
    "    while optTol * norm(grad_0,2) <= norm(grad_x,2)\n",
    "        \n",
    "        int=int+1;\n",
    "        # if the iteratives number is greater than maxit, break down.\n",
    "        if int >= maxit\n",
    "            break\n",
    "        end\n",
    "\n",
    "    # applying netwon method\n",
    "    \n",
    "    # determine the direction.\n",
    "    \n",
    "        dx = - H *  grad_x ;\n",
    "    \n",
    "        t=1; # line search parameter.\n",
    "        bt=0;\n",
    "        at=grad_x' * dx;\n",
    "     \n",
    "     ## 1st wolfe condtion f(x+t*p) < f(x) + c1 * t * grad_f * p       \n",
    "        while obj.obj(x+t*dx) >= obj.obj(x)+c1*t*at[1]     \n",
    "        \n",
    "                t= t * beta;\n",
    "            \n",
    "            ## 2nd wolfe condtion grad_f(x+t*p) * p > c2 * grad_f * p \n",
    "            while (obj.grd(x+t*dx)'*dx)[1] < c2 * at[1]\n",
    "                t = t* 1.2;\n",
    "            end\n",
    "        \n",
    "        end # back tracking\n",
    "    \n",
    "        s = dx * t;\n",
    "        y = obj.grd(x+s)-obj.grd(x);\n",
    "        rho = s'*y;\n",
    "        r= 1/rho[1];\n",
    "    H = H + (rho[1]+ (y' * H * y)[1])*(s*s')*r^2 - r*(H * y*s' + s*y'*H);\n",
    "        #H = (eye(length(x0)) -r * s * y' ) * H * (eye(length(x0)) -r * y * s' ) + r * s * s';\n",
    "    \n",
    "        x = x + t*dx;\n",
    "        grad_x = obj.grd(x);\n",
    "    \n",
    "    end # while newton M\n",
    "    \n",
    "    return(x, int)   \n",
    "end   # function\n",
    "\n",
    "\n",
    "beta = 0.6;\n",
    "c1 = 0.1;\n",
    "c2 = 0.98;\n",
    "for i = 1:18\n",
    "    obj=Problem(i)\n",
    "    x0=obj.x0;\n",
    "    (x, int)= newtmin(obj,x0,c1,c2);\n",
    "    println( \"Obj\",i,\"=\",obj.obj(x),\"||Grad||= \", norm(obj.grd(x),2),\" \",\"Int=\",int,\"\\n\")\n",
    "\n",
    "end\n",
    "\n",
    "############### HW4 ##########\n",
    "############### HW4 ##########\n"
   ]
  },
  {
   "cell_type": "code",
   "execution_count": 6,
   "metadata": {
    "collapsed": false
   },
   "outputs": [
    {
     "name": "stdout",
     "output_type": "stream",
     "text": [
      "Obj16=1.0975874461618196e-19||Grad||= 1.5608974971579229e-9 Int=16\n",
      "\n"
     ]
    }
   ],
   "source": [
    "# case 16\n",
    "\n",
    "for i = 16:16\n",
    "    obj=Problem(i)\n",
    "    x0=obj.x0;\n",
    "    (x, int)= newtmin(obj,x0,c1,c2);\n",
    "    println( \"Obj\",i,\"=\",obj.obj(x),\"||Grad||= \", norm(obj.grd(x),2),\" \",\"Int=\",int,\"\\n\")\n",
    "\n",
    "end"
   ]
  },
  {
   "cell_type": "code",
   "execution_count": 8,
   "metadata": {
    "collapsed": false
   },
   "outputs": [
    {
     "name": "stdout",
     "output_type": "stream",
     "text": [
      "Obj18=0.005386430896854846||Grad||= 9.663039407073988e-5 Int=200\n",
      "\n"
     ]
    }
   ],
   "source": [
    "# Case 18\n",
    "\n",
    "for i = 18:18\n",
    "    obj=Problem(i)\n",
    "    x0=obj.x0;\n",
    "    (x, int)= newtmin(obj,x0,c1,c2);\n",
    "    println( \"Obj\",i,\"=\",obj.obj(x),\"||Grad||= \", norm(obj.grd(x),2),\" \",\"Int=\",int,\"\\n\")\n",
    "\n",
    "end"
   ]
  },
  {
   "cell_type": "code",
   "execution_count": 23,
   "metadata": {
    "collapsed": false
   },
   "outputs": [
    {
     "name": "stdout",
     "output_type": "stream",
     "text": [
      "Obj17=9.113232745173565e-14||Grad||= 1.0423314653252328e-5 Int=87\n",
      "\n"
     ]
    }
   ],
   "source": [
    "\n",
    "beta = 0.5;\n",
    "c1 = 0.01;\n",
    "c2 = 0.98;\n",
    "\n",
    "\n",
    "for i = 17:17\n",
    "    obj=Problem(i)\n",
    "    x0=obj.x0;\n",
    "    (x, int)= newtmin(obj,x0,c1,c2);\n",
    "    println( \"Obj\",i,\"=\",obj.obj(x),\"||Grad||= \", norm(obj.grd(x),2),\" \",\"Int=\",int,\"\\n\")\n",
    "\n",
    "end"
   ]
  },
  {
   "cell_type": "code",
   "execution_count": 9,
   "metadata": {
    "collapsed": false
   },
   "outputs": [
    {
     "name": "stderr",
     "output_type": "stream",
     "text": [
      "INFO: Cloning Toms566 from https://github.com/mpf/Toms566.jl.git\n"
     ]
    },
    {
     "ename": "LoadError",
     "evalue": "LoadError: Toms566 already exists\nwhile loading In[9], in expression starting on line 1",
     "output_type": "error",
     "traceback": [
      "LoadError: Toms566 already exists\nwhile loading In[9], in expression starting on line 1",
      ""
     ]
    }
   ],
   "source": [
    "Pkg.clone(\"https://github.com/mpf/Toms566.jl.git\")"
   ]
  },
  {
   "cell_type": "code",
   "execution_count": 10,
   "metadata": {
    "collapsed": false
   },
   "outputs": [
    {
     "name": "stderr",
     "output_type": "stream",
     "text": [
      "INFO: Updating METADATA...\n",
      "INFO: Updating Toms566...\n",
      "INFO: Computing changes...\n",
      "INFO: No packages to install, update or remove\n"
     ]
    }
   ],
   "source": [
    "Pkg.update()\n"
   ]
  },
  {
   "cell_type": "code",
   "execution_count": 2,
   "metadata": {
    "collapsed": true
   },
   "outputs": [],
   "source": [
    "using Toms566"
   ]
  },
  {
   "cell_type": "code",
   "execution_count": 3,
   "metadata": {
    "collapsed": false
   },
   "outputs": [
    {
     "name": "stderr",
     "output_type": "stream",
     "text": [
      "INFO: Testing Toms566\n"
     ]
    },
    {
     "name": "stdout",
     "output_type": "stream",
     "text": [
      "No.  Name                             n        f(x0)     |∇f(x0)| cond(∇²f(x0))\n"
     ]
    },
    {
     "name": "stderr",
     "output_type": "stream",
     "text": [
      "ERROR: LoadError: error compiling anonymous: error compiling call: could not load library \"/Users/Beaux/.julia/v0.4/Toms566/src/lib566\"\n",
      "dlopen(/Users/Beaux/.julia/v0.4/Toms566/src/lib566.dylib, 1): Library not loaded: /usr/local/lib/gcc/5/libgfortran.3.dylib\n",
      "  Referenced from: /Users/Beaux/.julia/v0.4/Toms566/src/lib566.dylib\n",
      "  Reason: image not found\n",
      " in include at /Applications/Julia-0.4.0.app/Contents/Resources/julia/lib/julia/sys.dylib\n",
      " in include_from_node1 at /Applications/Julia-0.4.0.app/Contents/Resources/julia/lib/julia/sys.dylib\n",
      " in process_options at /Applications/Julia-0.4.0.app/Contents/Resources/julia/lib/julia/sys.dylib\n",
      " in _start at /Applications/Julia-0.4.0.app/Contents/Resources/julia/lib/julia/sys.dylib\n",
      "while loading /Users/Beaux/.julia/v0.4/Toms566/test/runtests.jl, in expression starting on line 6\n",
      "===============================[ ERROR: Toms566 ]===============================\n",
      "\n",
      "failed process: Process(`/Applications/Julia-0.4.0.app/Contents/Resources/julia/bin/julia --check-bounds=yes --code-coverage=none --color=no /Users/Beaux/.julia/v0.4/Toms566/test/runtests.jl`, ProcessExited(1)) [1]\n"
     ]
    },
    {
     "ename": "LoadError",
     "evalue": "LoadError: Toms566 had test errors\nwhile loading In[3], in expression starting on line 1",
     "output_type": "error",
     "traceback": [
      "LoadError: Toms566 had test errors\nwhile loading In[3], in expression starting on line 1",
      "",
      " in error at /Applications/Julia-0.4.0.app/Contents/Resources/julia/lib/julia/sys.dylib",
      " in test at pkg/entry.jl:753",
      " in anonymous at pkg/dir.jl:31",
      " in cd at file.jl:22",
      " in cd at pkg/dir.jl:31",
      " in test at pkg.jl:71"
     ]
    },
    {
     "name": "stderr",
     "output_type": "stream",
     "text": [
      "\n",
      "================================================================================\n"
     ]
    }
   ],
   "source": [
    "Pkg.test(\"Toms566\")"
   ]
  },
  {
   "cell_type": "code",
   "execution_count": null,
   "metadata": {
    "collapsed": true
   },
   "outputs": [],
   "source": []
  }
 ],
 "metadata": {
  "kernelspec": {
   "display_name": "Julia 0.4.0",
   "language": "julia",
   "name": "julia-0.4"
  },
  "language_info": {
   "file_extension": ".jl",
   "mimetype": "application/julia",
   "name": "julia",
   "version": "0.4.0"
  }
 },
 "nbformat": 4,
 "nbformat_minor": 0
}
