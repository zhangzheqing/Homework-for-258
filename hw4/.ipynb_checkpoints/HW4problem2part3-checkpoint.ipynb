{
 "cells": [
  {
   "cell_type": "code",
   "execution_count": 1,
   "metadata": {
    "collapsed": false
   },
   "outputs": [
    {
     "name": "stdout",
     "output_type": "stream",
     "text": [
      "the minimizer =[1.8287770548262528e-7,2.2347144847888732e-7,7.701212744761193e-8,1.0237764925965471e-7,1.6954531981739393e-7,3.139646666262961e-8,6.901385304981026e-9,1.6721598286238772e-7,2.3453870732088425e-7,2.077525800117792e-7]\n",
      "the iterative step = 22\n"
     ]
    }
   ],
   "source": [
    "# HW4 problem 2 finding the minimum of ||x||^beta \n",
    "# with newton method combining armijo linesearch \n",
    "\n",
    "beta= 3;\n",
    "c1 = 10.0^(-2);\n",
    "\n",
    "\n",
    "#n=10; # dimension of the problem.\n",
    "\n",
    "#x0=rand(n); # intial condtion \n",
    "x0=rand(10);\n",
    "x=x0;\n",
    "steps=0;\n",
    "while norm(x)>10.0^(-6)\n",
    " \n",
    "    steps=steps+1;   \n",
    "alpha=1; # intial line search \n",
    "left=norm(x+alpha*(-1/(beta-1))*x)^beta;\n",
    "right= norm(x)^beta+beta* c1*alpha*(norm(x)^beta)*(-1/(beta-1));\n",
    "\n",
    "\n",
    "\n",
    "\n",
    "while left >= right\n",
    "    alpha=0.5 * alpha;\n",
    "    left=norm(x+alpha*(-1/(beta-1))*x)^beta;\n",
    "    right= norm(x)^beta+beta* c1*alpha*(norm(x)^beta)*(-1/(beta-1));\n",
    "end\n",
    "    \n",
    "    x=x-x*alpha/(beta-1);\n",
    "    \n",
    "    \n",
    "    \n",
    "    \n",
    "end\n",
    "\n",
    "println(\"the minimizer =\", x,\"\\n\",\"the iterative step = \", steps )\n"
   ]
  },
  {
   "cell_type": "code",
   "execution_count": null,
   "metadata": {
    "collapsed": true
   },
   "outputs": [],
   "source": []
  }
 ],
 "metadata": {
  "kernelspec": {
   "display_name": "Julia 0.4.0",
   "language": "julia",
   "name": "julia-0.4"
  },
  "language_info": {
   "file_extension": ".jl",
   "mimetype": "application/julia",
   "name": "julia",
   "version": "0.4.0"
  }
 },
 "nbformat": 4,
 "nbformat_minor": 0
}
