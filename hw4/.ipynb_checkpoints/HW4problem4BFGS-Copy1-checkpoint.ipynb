{
 "cells": [
  {
   "cell_type": "code",
   "execution_count": 5,
   "metadata": {
    "collapsed": false
   },
   "outputs": [
    {
     "name": "stdout",
     "output_type": "stream",
     "text": [
      "Obj1=2.8806154594386315e-15||Grad||= 1.4576984336799224e-6 Int=27\n",
      "\n",
      "Obj2=NaN||Grad||= NaN Int=48\n",
      "\n",
      "Obj3=1.1279327696189195e-8||Grad||= 7.947786701381712e-13 Int=3\n",
      "\n",
      "Obj4=5.474852537910297e-19||Grad||= 8.61854211894618e-6 Int=147\n",
      "\n",
      "Obj5=4.410733134962659e-17||Grad||= 9.215294228210955e-9 Int=37\n",
      "\n",
      "Obj6=32.78750309098244||Grad||= 48.14029321284772 Int=48\n",
      "\n",
      "Obj7=1.3997601382183117e-6||Grad||= 3.8433422192029615e-8 Int=107\n",
      "\n",
      "Obj8=0.0008536428514220635||Grad||= 0.03103571285551079 Int=54\n",
      "\n",
      "Obj9=88.031857688529||Grad||= 0.00021221226367139205 Int=185\n",
      "\n",
      "Obj10=3.3947524650952894e-25||Grad||= 1.1652900866477298e-6 Int=11\n",
      "\n",
      "Obj11=85822.20162635631||Grad||= 0.000496250520873629 Int=23\n",
      "\n",
      "Obj12=NaN||Grad||= NaN Int=11\n",
      "\n",
      "Obj13=3.480970364036307e-6||Grad||= 8.000659462479111e-12 Int=50\n",
      "\n",
      "Obj14=7.943360089898714e-8||Grad||= 0.0012423960890849128 Int=200\n",
      "\n",
      "Obj15=5.449487980721794e-6||Grad||= 0.0008945317293489716 Int=200\n",
      "\n"
     ]
    }
   ],
   "source": [
    "using Toms566\n",
    "\n",
    "\n",
    "\n",
    "\n",
    "\n",
    "function newtmin( obj, x0,c1,c2; maxit=200, optTol=1e-9)\n",
    "# Minimize a function f using Newton’s method.\n",
    "# obj: a function that evaluates the objective value,\n",
    "# gradient, and Hessian at a point x, i.e.,\n",
    "# (f, g, H) = obj(x)\n",
    "# x0: starting point.\n",
    "    # c1,c2 are the parameters from wolfe condtion used in the linesearch\n",
    "# maxIts (optional): maximum number of iterations.\n",
    "# optTol (optional): optimality tolerance based on\n",
    "# ||grad(x)|| <= optTol*||grad(x0)||\n",
    "    f_0 = obj.obj(x0);\n",
    "    grad_0 = obj.grd(x0);\n",
    "    Hes_0 = obj.hes(x0);\n",
    "    Hes_0 = Hes_0-min(eigmin(Hes_0)-1e-3,0)*eye(length(x0));\n",
    "           \n",
    "    #Counts the iteratives.\n",
    "    int = 0;\n",
    "    \n",
    "    #initialize the problem.\n",
    "    x = x0;\n",
    "    f_x = f_0;\n",
    "    grad_x = grad_0;   \n",
    "    Hes_x = Hes_0;\n",
    "    H = inv(Hes_x);\n",
    "    while optTol * norm(grad_0,2) <= norm(grad_x,2)\n",
    "        \n",
    "        int=int+1;\n",
    "        # if the iteratives number is greater than maxit, break down.\n",
    "        if int >= maxit\n",
    "            break\n",
    "        end\n",
    "\n",
    "    # applying netwon method\n",
    "    \n",
    "    # determine the direction.\n",
    "    \n",
    "        dx = - H *  grad_x ;\n",
    "    \n",
    "        t=1; # line search parameter.\n",
    "        bt=0;\n",
    "        at=grad_x' * dx;\n",
    "     \n",
    "     ## 1st wolfe condtion f(x+t*p) < f(x) + c1 * t * grad_f * p       \n",
    "        while obj.obj(x+t*dx) >= obj.obj(x)+c1*t*at[1]     \n",
    "        \n",
    "                t= t * beta;\n",
    "            \n",
    "            ## 2nd wolfe condtion grad_f(x+t*p) * p > c2 * grad_f * p \n",
    "            while (obj.grd(x+t*dx)'*dx)[1] < c2 * at[1]\n",
    "                t = t* 1.2;\n",
    "            end\n",
    "        \n",
    "        end # back tracking\n",
    "    \n",
    "        s = dx * t;\n",
    "        y = obj.grd(x+s)-obj.grd(x);\n",
    "        rho = s'*y;\n",
    "        r= 1/rho[1];\n",
    "    H = H + (rho[1]+ (y' * H * y)[1])*(s*s')*r^2 - r*(H * y*s' + s*y'*H);\n",
    "        #H = (eye(length(x0)) -r * s * y' ) * H * (eye(length(x0)) -r * y * s' ) + r * s * s';\n",
    "    \n",
    "        x = x + t*dx;\n",
    "        grad_x = obj.grd(x);\n",
    "    \n",
    "    end # while newton M\n",
    "    \n",
    "    return(x, int)   \n",
    "end   # function\n",
    "\n",
    "\n",
    "beta = 0.6;\n",
    "c1 = 0.1;\n",
    "c2 = 0.98;\n",
    "for i = 1:15\n",
    "    obj=Problem(i)\n",
    "    x0=obj.x0;\n",
    "    (x, int)= newtmin(obj,x0,c1,c2);\n",
    "    println( \"Obj\",i,\"=\",obj.obj(x),\"||Grad||= \", norm(obj.grd(x),2),\" \",\"Int=\",int,\"\\n\")\n",
    "\n",
    "end\n",
    "\n",
    "############### HW4 ##########\n",
    "############### HW4 ##########\n"
   ]
  },
  {
   "cell_type": "code",
   "execution_count": 6,
   "metadata": {
    "collapsed": false
   },
   "outputs": [
    {
     "name": "stdout",
     "output_type": "stream",
     "text": [
      "Obj16=1.0975874461618196e-19||Grad||= 1.5608974971579229e-9 Int=16\n",
      "\n"
     ]
    }
   ],
   "source": [
    "# case 16\n",
    "\n",
    "for i = 16:16\n",
    "    obj=Problem(i)\n",
    "    x0=obj.x0;\n",
    "    (x, int)= newtmin(obj,x0,c1,c2);\n",
    "    println( \"Obj\",i,\"=\",obj.obj(x),\"||Grad||= \", norm(obj.grd(x),2),\" \",\"Int=\",int,\"\\n\")\n",
    "\n",
    "end"
   ]
  },
  {
   "cell_type": "code",
   "execution_count": 8,
   "metadata": {
    "collapsed": false
   },
   "outputs": [
    {
     "name": "stdout",
     "output_type": "stream",
     "text": [
      "Obj18=0.005386430896854846||Grad||= 9.663039407073988e-5 Int=200\n",
      "\n"
     ]
    }
   ],
   "source": [
    "# Case 18\n",
    "\n",
    "for i = 18:18\n",
    "    obj=Problem(i)\n",
    "    x0=obj.x0;\n",
    "    (x, int)= newtmin(obj,x0,c1,c2);\n",
    "    println( \"Obj\",i,\"=\",obj.obj(x),\"||Grad||= \", norm(obj.grd(x),2),\" \",\"Int=\",int,\"\\n\")\n",
    "\n",
    "end"
   ]
  },
  {
   "cell_type": "code",
   "execution_count": 23,
   "metadata": {
    "collapsed": false
   },
   "outputs": [
    {
     "name": "stdout",
     "output_type": "stream",
     "text": [
      "Obj17=9.113232745173565e-14||Grad||= 1.0423314653252328e-5 Int=87\n",
      "\n"
     ]
    }
   ],
   "source": [
    "\n",
    "beta = 0.5;\n",
    "c1 = 0.01;\n",
    "c2 = 0.98;\n",
    "\n",
    "\n",
    "for i = 17:17\n",
    "    obj=Problem(i)\n",
    "    x0=obj.x0;\n",
    "    (x, int)= newtmin(obj,x0,c1,c2);\n",
    "    println( \"Obj\",i,\"=\",obj.obj(x),\"||Grad||= \", norm(obj.grd(x),2),\" \",\"Int=\",int,\"\\n\")\n",
    "\n",
    "end"
   ]
  },
  {
   "cell_type": "code",
   "execution_count": null,
   "metadata": {
    "collapsed": true
   },
   "outputs": [],
   "source": []
  }
 ],
 "metadata": {
  "kernelspec": {
   "display_name": "Julia 0.5.0-dev",
   "language": "julia",
   "name": "julia-0.5"
  },
  "language_info": {
   "file_extension": ".jl",
   "mimetype": "application/julia",
   "name": "julia",
   "version": "0.5.0"
  }
 },
 "nbformat": 4,
 "nbformat_minor": 0
}
