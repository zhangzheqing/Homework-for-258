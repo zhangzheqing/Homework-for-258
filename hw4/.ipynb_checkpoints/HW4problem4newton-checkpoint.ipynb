{
 "cells": [
  {
   "cell_type": "code",
   "execution_count": 1,
   "metadata": {
    "collapsed": false
   },
   "outputs": [
    {
     "ename": "LoadError",
     "evalue": "LoadError: error compiling anonymous: error compiling call: could not load library \"/Users/Beaux/.julia/v0.4/Toms566/src/lib566\"\ndlopen(/Users/Beaux/.julia/v0.4/Toms566/src/lib566.dylib, 1): Library not loaded: /usr/local/lib/gcc/5/libgfortran.3.dylib\n  Referenced from: /Users/Beaux/.julia/v0.4/Toms566/src/lib566.dylib\n  Reason: image not found\nwhile loading In[1], in expression starting on line 76",
     "output_type": "error",
     "traceback": [
      "LoadError: error compiling anonymous: error compiling call: could not load library \"/Users/Beaux/.julia/v0.4/Toms566/src/lib566\"\ndlopen(/Users/Beaux/.julia/v0.4/Toms566/src/lib566.dylib, 1): Library not loaded: /usr/local/lib/gcc/5/libgfortran.3.dylib\n  Referenced from: /Users/Beaux/.julia/v0.4/Toms566/src/lib566.dylib\n  Reason: image not found\nwhile loading In[1], in expression starting on line 76",
      ""
     ]
    }
   ],
   "source": [
    "##### HW 4 newton method with modified Hessian\n",
    "\n",
    "\n",
    "\n",
    "\n",
    "using Toms566\n",
    "\n",
    "\n",
    "\n",
    "function newtmin( obj, x0; maxit=200, optTol=1e-9)\n",
    "# Minimize a function f using Newton’s method.\n",
    "# obj: a function that evaluates the objective value,\n",
    "# gradient, and Hessian at a point x, i.e.,\n",
    "# (f, g, H) = obj(x)\n",
    "# x0: starting point.\n",
    "# maxIts (optional): maximum number of iterations.\n",
    "# optTol (optional): optimality tolerance based on\n",
    "# ||grad(x)|| <= optTol*||grad(x0)||\n",
    "    \n",
    "    f_0 = obj.obj(x0);\n",
    "    grad_0 = obj.grd(x0);\n",
    "    Hes_0 = obj.hes(x0);\n",
    "    Hes_0 = Hes_0-min(eigmin(Hes_0)-1e-3,0)*eye(length(x0));\n",
    "        \n",
    "    x = x0;\n",
    "    f_x = f_0;\n",
    "    grad_x = grad_0;   \n",
    "    Hes_x = Hes_0;\n",
    "    \n",
    "    #Counts the iteratives.\n",
    "    int = 0;\n",
    "    \n",
    "    while optTol * norm(grad_0,2) <= norm(grad_x,2)\n",
    "        \n",
    "        int=int+1;\n",
    "        # if the iteratives number is greater than maxit, break down.\n",
    "        if int >= maxit\n",
    "            break\n",
    "        end\n",
    "        \n",
    "    # applying netwon method\n",
    "    \n",
    "    # determine the direction.\n",
    "    \n",
    "        dx = - inv(Hes_x) *  grad_x ;\n",
    "    \n",
    "        t=1;\n",
    "        bt=0;\n",
    "        at=grad_x' * dx;\n",
    "\n",
    "            while obj.obj(x+t*dx) >= obj.obj(x)+alpha*t*at[1]\n",
    "        \n",
    "                t= t * beta;\n",
    "            end # back tracking\n",
    "        \n",
    "        \n",
    "        x=x+dx*t;\n",
    "    \n",
    "        f_x=obj.obj(x);\n",
    "        grad_x = obj.grd(x);\n",
    "        Hes_x = obj.hes(x);\n",
    "        Hes_x = Hes_x - min(eigmin(Hes_x)-1e-3,0)*eye(length(x0));\n",
    "    \n",
    "    \n",
    "    \n",
    "    \n",
    "    end # while newton M\n",
    "    \n",
    "    return(x, int)   \n",
    "end   # function\n",
    "##############################\n",
    "###### The first problem\n",
    "##############################\n",
    "beta = 0.5;\n",
    "alpha = 0.3;\n",
    "for i = 1:18\n",
    "    println(i,\"th function\")\n",
    "    p=Problem(i)\n",
    "    x0=p.x0;\n",
    "    (x,int)=newtmin(p,x0)\n",
    "    println(\"minf=\", p.obj(x),\"|gradf|=\",norm(p.grd(x),2),\"mineig=\",eigmin(p.hes(x)),\"iter=\",int)\n",
    "end\n",
    "\n",
    "\n"
   ]
  },
  {
   "cell_type": "code",
   "execution_count": null,
   "metadata": {
    "collapsed": true
   },
   "outputs": [],
   "source": [
    "Pkg.status()\n"
   ]
  },
  {
   "cell_type": "code",
   "execution_count": null,
   "metadata": {
    "collapsed": true
   },
   "outputs": [],
   "source": []
  }
 ],
 "metadata": {
  "kernelspec": {
   "display_name": "Julia 0.4.0",
   "language": "julia",
   "name": "julia-0.4"
  },
  "language_info": {
   "file_extension": ".jl",
   "mimetype": "application/julia",
   "name": "julia",
   "version": "0.4.0"
  }
 },
 "nbformat": 4,
 "nbformat_minor": 0
}
