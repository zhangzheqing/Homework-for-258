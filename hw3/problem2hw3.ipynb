{
 "cells": [
  {
   "cell_type": "code",
   "execution_count": 2,
   "metadata": {
    "collapsed": false
   },
   "outputs": [
    {
     "name": "stdout",
     "output_type": "stream",
     "text": [
      "x_minimizer=[-0.052820315743646,0.04717968429434554,0.1]\n",
      "L_value=216.74454490695285\n",
      "grad_L=[1.1129941412946209e-10,1.1129941412946209e-10,0.0]\n",
      "num of iteration=7\n",
      "[110138.95223761664,110089.7663115755,81119.85716240198,10879.494358459839,154.27585792843195,0.01554000104413747,1.5740114094606498e-10]\n"
     ]
    }
   ],
   "source": [
    "using DataFrames\n",
    "using ForwardDiff\n",
    "x0=[0.1,0.2,0.1];\n",
    "alpha=0.4;\n",
    "beta=0.5;\n",
    "\n",
    "\n",
    "Data= readtable(\"binary.csv\")\n",
    "l=length(Data[:,1]);\n",
    "U=zeros(l,3);\n",
    "U[:,1]=Data[:,2];\n",
    "U[:,2]=Data[:,3];\n",
    "U[:,3] = ones(l);\n",
    "\n",
    "function L(x,u)\n",
    "    return -u[1]*(x[1]*u[2]+x[2]*u[2]+u[3])+(1-u[1])*(log(1+exp(x[1]*u[2]+x[2]*u[2]+u[3])))\n",
    "end\n",
    "\n",
    "G(x,u) = ForwardDiff.gradient(x-> L(x,u))(x)\n",
    "H(x,u) = ForwardDiff.hessian(x->L(x,u))(x)\n",
    "function Logistic(x)\n",
    "    m=0;\n",
    "    for i=1:l\n",
    "        u=[Data[i,1],Data[i,2],Data[i,3]];\n",
    "    m=L(x,u)+m;\n",
    "    end\n",
    "    return m\n",
    "end\n",
    "\n",
    "\n",
    "function GradL(x)\n",
    "    m=0;\n",
    "    for i = 1:l\n",
    "    u=[Data[i,1],Data[i,2],Data[i,3]];\n",
    "    m=G(x,u)+m;\n",
    "    end\n",
    "    return m\n",
    "end\n",
    "\n",
    "function Hes(x)\n",
    "    m=0;\n",
    "    for i = 1:l\n",
    "    u=[Data[i,1],Data[i,2],Data[i,3]];\n",
    "    m=H(x,u)+m;\n",
    "    end\n",
    "    return m\n",
    "end   \n",
    "Grd=[0];\n",
    "x0=[0.1,0.2,0.1];\n",
    "function newtmin(Logistic, GradL,Hes, x0; maxit=500, optTol=1e-14)\n",
    "# Minimize a function f using Newton’s method.\n",
    "# obj: a function that evaluates the objective value,\n",
    "# gradient, and Hessian at a point x, i.e.,\n",
    "# (f, g, H) = obj(x)\n",
    "# x0: starting point.\n",
    "# maxIts (optional): maximum number of iterations.\n",
    "# optTol (optional): optimality tolerance based on\n",
    "# ||grad(x)|| <= optTol*||grad(x0)||\n",
    "    \n",
    "    f_0 = Logistic(x0);\n",
    "    grad_0 = GradL(x0);\n",
    "    Hes_0 = Hes(x0);\n",
    "    Hes_0 = Hes_0 - min(eigmin(Hes_0)-1e-3,0)*eye(length(x0));\n",
    "\n",
    "    x = x0;\n",
    "    f_x = f_0;\n",
    "    grad_x = grad_0;   \n",
    "    Hes_x = Hes_0;\n",
    "    Grd=[norm(grad_x)];\n",
    "    #Counts the iteratives.\n",
    "    int = 1;\n",
    "    while optTol * norm(grad_0) <= norm(grad_x)\n",
    "        int=int+1;\n",
    "\n",
    "        \n",
    "        # if the iteratives number is greater than maxit, break down.\n",
    "        if int >= maxit\n",
    "            break\n",
    "        end\n",
    "        \n",
    "    # applying netwon method\n",
    "    \n",
    "    # determine the direction.\n",
    "        dx = - Hes_x \\  grad_x ;\n",
    "        t=1;\n",
    "        bt=0;\n",
    "    print\n",
    "        at=grad_x' * dx;\n",
    "\n",
    "        while Logistic(x+t*dx) >= Logistic(x)+alpha*t*at[1]\n",
    "        \n",
    "                t= t * beta;\n",
    "        end # back tracking\n",
    "        \n",
    "        \n",
    "        x=x+dx*t;\n",
    "    \n",
    "        f_x=Logistic(x);\n",
    "        grad_x = GradL(x);\n",
    "        Hes_x = Hes(x);\n",
    "        Hes_x=Hes_x - min(eigmin(Hes_x)-1e-3,0)*eye(length(x0));\n",
    "        Grd=append!(Grd,[norm(grad_x)]);\n",
    "    \n",
    "    \n",
    "    \n",
    "    end # while newton M\n",
    "    \n",
    "    return(x, int,Grd)   \n",
    "end   # function\n",
    "\n",
    "(x,int,Grd)= newtmin(Logistic, GradL,Hes, x0; maxit=500, optTol=1e-14)\n",
    "println(\"x_minimizer=\",x,\"\\nL_value=\",Logistic(x), \"\\ngrad_L=\", GradL(x),\"\\nnum of iteration=\", int)\n",
    "println(Grd)"
   ]
  },
  {
   "cell_type": "code",
   "execution_count": 1,
   "metadata": {
    "collapsed": false
   },
   "outputs": [
    {
     "name": "stderr",
     "output_type": "stream",
     "text": [
      "INFO: Nothing to be done\n",
      "INFO: Nothing to be done\n"
     ]
    }
   ],
   "source": [
    "Pkg.add(\"ForwardDiff\")\n",
    "Pkg.add(\"DataFrames\")\n"
   ]
  },
  {
   "cell_type": "code",
   "execution_count": null,
   "metadata": {
    "collapsed": true
   },
   "outputs": [],
   "source": []
  }
 ],
 "metadata": {
  "kernelspec": {
   "display_name": "Julia 0.5.0-dev",
   "language": "julia",
   "name": "julia-0.5"
  },
  "language_info": {
   "file_extension": ".jl",
   "mimetype": "application/julia",
   "name": "julia",
   "version": "0.5.0"
  }
 },
 "nbformat": 4,
 "nbformat_minor": 0
}
